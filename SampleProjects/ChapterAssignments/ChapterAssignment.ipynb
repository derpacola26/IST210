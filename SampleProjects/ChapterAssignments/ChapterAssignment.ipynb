{
 "cells": [
  {
   "cell_type": "code",
   "execution_count": 14,
   "metadata": {},
   "outputs": [],
   "source": [
    "#-# Open the file\n",
    "fileToRead = open( \"chp1_afternoon.txt\", \"r\" )\n",
    "\n",
    "#-# Read in the data line by line and put into dateFormatted\n",
    "rowsInFile = []\n",
    "for line in fileToRead:\n",
    "    # Strip off the newline and split based on the space\n",
    "    rowsInFile.append( line.strip('\\n').split('\\t') )\n",
    "    \n",
    "#-# Close the file\n",
    "fileToRead.close()"
   ]
  },
  {
   "cell_type": "markdown",
   "metadata": {},
   "source": [
    "Showcase the column names:"
   ]
  },
  {
   "cell_type": "code",
   "execution_count": 15,
   "metadata": {},
   "outputs": [
    {
     "name": "stdout",
     "output_type": "stream",
     "text": [
      "0 section\n",
      "1 section_id\n",
      "2 section_sis_id\n",
      "3 submitted\n",
      "4 attempt\n",
      "5 69200963: Data constitute the building blocks of information.\n",
      "6 1\n",
      "7 69200964: The only way to access the data in a database is through the DBMS.\n",
      "8 1\n",
      "9 69200967: Data processing can be as simple as organizing data to reveal patterns.\n",
      "10 1\n",
      "11 69200971: A data warehouse can store data derived from many sources.\n",
      "12 1\n",
      "13 69200973: Corporations use only structured data.\n",
      "14 1\n",
      "15 69200981: A(n) _____ database is used by an organization and supports many users across many departments.\n",
      "16 1\n",
      "17 69200982: A(n) _____ database supports a relatively small number of users (usually fewer than 50) or a specific department within an organization.\n",
      "18 1\n",
      "19 69200983: _____ is defined as the condition in which all of the data in the database are consistent with the real-world events and conditions.\n",
      "20 1\n",
      "21 69200984: A workgroup database is a(n) _____ database.\n",
      "22 1\n",
      "23 69200985: A desktop database is a _____ database.\n",
      "24 1\n",
      "25 \"69200986: What database provides localized data, but is synchronized together for a more global database system?\"\n",
      "26 1\n",
      "27 69200989: _____ data is difficult to compare (between different sources) and difficult to store efficiently.Â \n",
      "28 1\n",
      "29 \"69200990: _____ are the result of formatting disorganized data in order to facilitate storage, use and generation of information.\"\n",
      "30 1\n",
      "31 69201000: _____ exists when data redundancy occurs and there is a conflict between two data sources.Â \n",
      "32 1\n",
      "33 69201003: _____ serve as the intermediary between the user and the database.\n",
      "34 1\n",
      "35 69201004: _____ provide a description of the data characteristics and the set of relationships that link the data found within the database.\n",
      "36 1\n",
      "37 69201006: _____ is the body of information and facts about a specific context.\n",
      "38 1\n",
      "39 69201008: _____ is the result of revealing the meaning of raw facts.\n",
      "40 1\n",
      "41 69201010: Which of the following refers to the situation where different versions of the same data are stored at different places because they weren't updated consistently?\n",
      "42 1\n",
      "43 69201011: _________ refer to a type of database that is created and maintained using services such as Microsoft Azure or Amazon AWS.\n",
      "44 1\n",
      "45 n correct\n",
      "46 n incorrect\n",
      "47 score\n"
     ]
    }
   ],
   "source": [
    "counter = 0\n",
    "for colNames in rowsInFile[0]:\n",
    "    print (counter,colNames)\n",
    "    counter = counter + 1"
   ]
  },
  {
   "cell_type": "markdown",
   "metadata": {},
   "source": [
    "Showcase the one example:"
   ]
  },
  {
   "cell_type": "code",
   "execution_count": 16,
   "metadata": {},
   "outputs": [
    {
     "name": "stdout",
     "output_type": "stream",
     "text": [
      "0 \"IST 210, Section 002: Org Data (21981--UP---P-IST-----210-------002-)\"\n",
      "1 2213391\n",
      "2 s21981--14303\n",
      "3 2019-09-09 04:05:16 UTC\n",
      "4 2\n",
      "5 TRUE\n",
      "6 1\n",
      "7 TRUE\n",
      "8 1\n",
      "9 TRUE\n",
      "10 1\n",
      "11 TRUE\n",
      "12 1\n",
      "13 FALSE\n",
      "14 1\n",
      "15 enterprise\n",
      "16 1\n",
      "17 workgroup\n",
      "18 1\n",
      "19 Data ubiquity\n",
      "20 0\n",
      "21 multiuser\n",
      "22 1\n",
      "23 single-user\n",
      "24 1\n",
      "25 distributed database\n",
      "26 1\n",
      "27 Unstructured\n",
      "28 1\n",
      "29 Raw data\n",
      "30 0\n",
      "31 Data inconsistency\n",
      "32 1\n",
      "33 Database Management System (DBMS)\n",
      "34 1\n",
      "35 Metadata\n",
      "36 1\n",
      "37 A database\n",
      "38 0\n",
      "39 Information\n",
      "40 1\n",
      "41 Data redundancy\n",
      "42 1\n",
      "43 Cloud databases\n",
      "44 1\n",
      "45 17\n",
      "46 3\n",
      "47 17\n"
     ]
    }
   ],
   "source": [
    "counter = 0\n",
    "for colNames in rowsInFile[1]:\n",
    "    print (counter,colNames)\n",
    "    counter = counter + 1"
   ]
  },
  {
   "cell_type": "markdown",
   "metadata": {},
   "source": [
    "Create a subset of the data based on 1st attempts:"
   ]
  },
  {
   "cell_type": "code",
   "execution_count": 17,
   "metadata": {},
   "outputs": [],
   "source": [
    "firstAttemptData = []\n",
    "for row in rowsInFile[1:]:\n",
    "    if (row[4]==\"1\"):\n",
    "        firstAttemptData.append(row)"
   ]
  },
  {
   "cell_type": "markdown",
   "metadata": {},
   "source": [
    "Let's double check the data"
   ]
  },
  {
   "cell_type": "code",
   "execution_count": 18,
   "metadata": {},
   "outputs": [
    {
     "name": "stdout",
     "output_type": "stream",
     "text": [
      "1\n",
      "1\n",
      "1\n",
      "1\n",
      "1\n",
      "1\n",
      "1\n",
      "1\n",
      "1\n",
      "1\n"
     ]
    }
   ],
   "source": [
    "for row in firstAttemptData[0:10]:\n",
    "    print (row[4])"
   ]
  },
  {
   "cell_type": "markdown",
   "metadata": {},
   "source": [
    "Drop the first column (attempt - we know its the first) and last 3 columns (n correct, n incorrect, score). We just want the data."
   ]
  },
  {
   "cell_type": "code",
   "execution_count": 19,
   "metadata": {},
   "outputs": [
    {
     "name": "stdout",
     "output_type": "stream",
     "text": [
      "40\n"
     ]
    }
   ],
   "source": [
    "justTheData = []\n",
    "for row in firstAttemptData:\n",
    "    temp = row[5:]\n",
    "    temp = temp[:-3]\n",
    "    justTheData.append(temp)\n",
    "print(len(justTheData[0]))"
   ]
  },
  {
   "cell_type": "code",
   "execution_count": 20,
   "metadata": {},
   "outputs": [
    {
     "name": "stdout",
     "output_type": "stream",
     "text": [
      "['TRUE', '1', 'FALSE', '0', 'TRUE', '1', 'TRUE', '1', 'FALSE', '1', 'enterprise', '1', 'workgroup', '1', 'Data integrity', '1', 'multiuser', '1', 'single-user', '1', 'centralized databases', '0', 'Unstructured', '1', 'Structured data', '1', 'Data Anomalies', '0', 'System Administrator', '0', 'Queries', '0', 'A database', '0', 'Information', '1', 'Data redundancy', '1', 'Cloud databases', '1']\n",
      "['TRUE', '1', 'FALSE', '0', 'TRUE', '1', 'TRUE', '1', 'TRUE', '0', 'enterprise', '1', 'workgroup', '1', 'Data integrity', '1', 'multiuser', '1', 'single-user', '1', 'distributed database', '1', 'Unstructured', '1', 'Structured data', '1', 'Data inconsistency', '1', 'Database Management System (DBMS)', '1', 'Metadata', '1', 'Knowledge', '1', 'Information', '1', 'Data redundancy', '1', 'Cloud databases', '1']\n",
      "['TRUE', '1', 'TRUE', '1', 'TRUE', '1', 'TRUE', '1', 'FALSE', '1', 'enterprise', '1', 'workgroup', '1', 'Data anomaly', '0', 'multiuser', '1', 'single-user', '1', 'distributed database', '1', 'Unstructured', '1', 'Structured data', '1', 'Data Anomalies', '0', 'Database Management System (DBMS)', '1', 'Metadata', '1', 'A database', '0', 'Information', '1', 'Data redundancy', '1', 'Cloud databases', '1']\n",
      "['TRUE', '1', 'TRUE', '1', 'TRUE', '1', 'TRUE', '1', 'FALSE', '1', 'enterprise', '1', 'workgroup', '1', 'Data integrity', '1', 'multiuser', '1', 'single-user', '1', 'distributed database', '1', 'Unstructured', '1', 'Structured data', '1', 'Data inconsistency', '1', 'Database Management System (DBMS)', '1', 'Metadata', '1', 'Knowledge', '1', 'Information', '1', 'Data redundancy', '1', 'Cloud databases', '1']\n"
     ]
    }
   ],
   "source": [
    "for row in justTheData[0:4]:\n",
    "    print (row)"
   ]
  },
  {
   "cell_type": "markdown",
   "metadata": {},
   "source": [
    "Define the data:"
   ]
  },
  {
   "cell_type": "code",
   "execution_count": 21,
   "metadata": {},
   "outputs": [
    {
     "name": "stdout",
     "output_type": "stream",
     "text": [
      "[44.0, 19.0, 43.0, 44.0, 40.0, 39.0, 37.0, 30.0, 43.0, 41.0, 26.0, 41.0, 37.0, 28.0, 36.0, 24.0, 16.0, 31.0, 39.0, 39.0]\n",
      "45\n",
      "[33.75, 33.75, 33.75, 33.75, 33.75, 33.75, 33.75, 33.75, 33.75, 33.75, 33.75, 33.75, 33.75, 33.75, 33.75, 33.75, 33.75, 33.75, 33.75, 33.75]\n"
     ]
    }
   ],
   "source": [
    "possiblePoints = len(justTheData)\n",
    "points = [0] * 20\n",
    "for row in justTheData:\n",
    "    skip = 1\n",
    "    for point in range(1,len(row),2):\n",
    "        if (float(row[point])>0):\n",
    "            skip = 0\n",
    "    for point in range(1,len(row),2):\n",
    "        if not (skip):\n",
    "            points[int(((point-1)/2))] = points[int(((point-1)/2))] + float(row[point])\n",
    "        \n",
    "        \n",
    "        \n",
    "goodScores = []\n",
    "for i in range(20):\n",
    "    goodScores.append(possiblePoints*.75)\n",
    "\n",
    "print (points)\n",
    "print (possiblePoints)\n",
    "print (goodScores)"
   ]
  },
  {
   "cell_type": "markdown",
   "metadata": {},
   "source": [
    "### Question 1"
   ]
  },
  {
   "cell_type": "code",
   "execution_count": 22,
   "metadata": {},
   "outputs": [
    {
     "data": {
      "image/png": "[encoded data removed]",
      "text/plain": [
       "<Figure size 1000x500 with 1 Axes>"
      ]
     },
     "metadata": {},
     "output_type": "display_data"
    }
   ],
   "source": [
    "import matplotlib.pyplot as plt; plt.rcdefaults()\n",
    "import numpy as np\n",
    "import matplotlib.pyplot as plt\n",
    "\n",
    "plt.rcParams['figure.figsize'] = [10, 5]\n",
    "namesOFQuestions = []\n",
    "for i in range(1,21):\n",
    "    namesOFQuestions.append(\"Q\"+str(i))\n",
    "objects = tuple( namesOFQuestions )\n",
    "y_pos = np.arange(20)\n",
    "performance = [10,8,6,4,2,1]\n",
    "\n",
    "plt.bar(y_pos, points, align='center', alpha=0.5)\n",
    "plt.bar(y_pos, goodScores, align='center', alpha=0.2)\n",
    "plt.ylim(0, possiblePoints+10)\n",
    "plt.xticks(y_pos, objects)\n",
    "plt.ylabel('Points')\n",
    "plt.title('Chapter Assignment')\n",
    "plt.show()"
   ]
  },
  {
   "cell_type": "markdown",
   "metadata": {},
   "source": [
    "Print out questions that are less than 75%"
   ]
  },
  {
   "cell_type": "code",
   "execution_count": 23,
   "metadata": {},
   "outputs": [
    {
     "name": "stdout",
     "output_type": "stream",
     "text": [
      "Q2 \t 0.4222222222222222 \n",
      "  The only way to access the data in a database is through the DBMS. \n",
      "\n",
      "Q8 \t 0.6666666666666666 \n",
      "  _____ is defined as the condition in which all of the data in the database are consistent with the real-world events and conditions. \n",
      "\n",
      "Q11 \t 0.5777777777777777 \n",
      "  What database provides localized data, but is synchronized together for a more global database system?\" \n",
      "\n",
      "Q14 \t 0.6222222222222222 \n",
      "  _____ exists when data redundancy occurs and there is a conflict between two data sources.Â  \n",
      "\n",
      "Q16 \t 0.5333333333333333 \n",
      "  _____ provide a description of the data characteristics and the set of relationships that link the data found within the database. \n",
      "\n",
      "Q17 \t 0.35555555555555557 \n",
      "  _____ is the body of information and facts about a specific context. \n",
      "\n",
      "Q18 \t 0.6888888888888889 \n",
      "  _____ is the result of revealing the meaning of raw facts. \n",
      "\n"
     ]
    }
   ],
   "source": [
    "for i in range(0,len(points)):\n",
    "    if (points[i] < possiblePoints*.75):\n",
    "        print (\"Q\"+str(i+1),\"\\t\",points[i]/possiblePoints,\"\\n\",rowsInFile[0][(i*2)+5].split(\":\")[1],\"\\n\")"
   ]
  },
  {
   "cell_type": "markdown",
   "metadata": {},
   "source": [
    "Print out questions that are greater than 90%"
   ]
  },
  {
   "cell_type": "code",
   "execution_count": 24,
   "metadata": {},
   "outputs": [
    {
     "name": "stdout",
     "output_type": "stream",
     "text": [
      "Q1 \t 0.9777777777777777 \n",
      "  Data constitute the building blocks of information. \n",
      "\n",
      "Q3 \t 0.9555555555555556 \n",
      "  Data processing can be as simple as organizing data to reveal patterns. \n",
      "\n",
      "Q4 \t 0.9777777777777777 \n",
      "  A data warehouse can store data derived from many sources. \n",
      "\n",
      "Q9 \t 0.9555555555555556 \n",
      "  A workgroup database is a(n) _____ database. \n",
      "\n",
      "Q10 \t 0.9111111111111111 \n",
      "  A desktop database is a _____ database. \n",
      "\n",
      "Q12 \t 0.9111111111111111 \n",
      "  _____ data is difficult to compare (between different sources) and difficult to store efficiently.Â  \n",
      "\n"
     ]
    }
   ],
   "source": [
    "for i in range(0,len(points)):\n",
    "    if (points[i] > possiblePoints*.9):\n",
    "        print (\"Q\"+str(i+1),\"\\t\",points[i]/possiblePoints,\"\\n\",rowsInFile[0][(i*2)+5].split(\":\")[1],\"\\n\")"
   ]
  }
 ],
 "metadata": {
  "kernelspec": {
   "display_name": "Python 3",
   "language": "python",
   "name": "python3"
  },
  "language_info": {
   "codemirror_mode": {
    "name": "ipython",
    "version": 3
   },
   "file_extension": ".py",
   "mimetype": "text/x-python",
   "name": "python",
   "nbconvert_exporter": "python",
   "pygments_lexer": "ipython3",
   "version": "3.7.3"
  }
 },
 "nbformat": 4,
 "nbformat_minor": 2
}
