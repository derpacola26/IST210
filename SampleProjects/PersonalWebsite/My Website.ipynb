{
 "cells": [
  {
   "cell_type": "markdown",
   "metadata": {},
   "source": [
    "# Welcome to my website!"
   ]
  },
  {
   "cell_type": "markdown",
   "metadata": {},
   "source": [
    "This semester I will be teaching:\n",
    "* [IST210 x 2 - Organization of Data](https://teaching.ist.psu.edu/courses/ist-210/)\n",
    "* [IST331 - Foundations of Human-Centered Design](https://teaching.ist.psu.edu/courses/ist-331/)\n",
    "* [IST594 - Research Topics](https://bulletins.psu.edu/university-course-descriptions/graduate/ist/)"
   ]
  },
  {
   "cell_type": "markdown",
   "metadata": {},
   "source": [
    "---\n"
   ]
  },
  {
   "cell_type": "markdown",
   "metadata": {},
   "source": [
    "Most of my research focuses on Data Visualizations. \n",
    "\n",
    "Here are a couple of examples:"
   ]
  },
  {
   "cell_type": "markdown",
   "metadata": {},
   "source": [
    "<figure>\n",
    "  <img style=\"width:480px;max-width:100%;|\" src=\"chart.svg\" alt=\"Voronoi overlay + Force-directed Graph\" title=\"Voronoi overlay + Force-directed Graph\"/>\n",
    "  <figcaption style=\"text-align: center;\">Fig.1 - Voronoi overlay + Force-directed Graph.</figcaption>\n",
    "</figure>"
   ]
  },
  {
   "cell_type": "markdown",
   "metadata": {},
   "source": [
    "<figure>\n",
    "  <img style=\"width:480px;max-width:100%;|\" src=\"sunburst.svg\" alt=\"Structure of Hierachical Data\n",
    "\" title=\"Structure of Hierachical Data\n",
    "\"/>\n",
    "  <figcaption style=\"text-align: center;\">Fig.2 - Structure of Hierachical Data\n",
    ".</figcaption>\n",
    "</figure>"
   ]
  },
  {
   "cell_type": "markdown",
   "metadata": {},
   "source": [
    "<table>\n",
    "    <tr>\n",
    "        <td>\n",
    "<img style=\"width:480px;max-width:100%;|\" src=\"burkina-faso.svg\" alt=\"burkina-faso (before)\" title=\"burkina-faso (before)\"/>\n",
    "        </td>\n",
    "        <td>\n",
    "<img style=\"width:480px;max-width:100%;|\" src=\"burkina-faso2.svg\" alt=\"burkina-faso (after)\" title=\"burkina-faso (before)\"/>   \n",
    "        </td>\n",
    "    </tr>\n",
    "    <tr>\n",
    "        <td colspan=\"2\"  style=\"text-align: center;\">\n",
    "            Burkina Faso Equidistant (Before and After)\n",
    "        </td>\n",
    "    </tr>\n",
    "</table>"
   ]
  },
  {
   "cell_type": "markdown",
   "metadata": {},
   "source": [
    "---\n"
   ]
  }
 ],
 "metadata": {
  "kernelspec": {
   "display_name": "Python 3",
   "language": "python",
   "name": "python3"
  },
  "language_info": {
   "codemirror_mode": {
    "name": "ipython",
    "version": 3
   },
   "file_extension": ".py",
   "mimetype": "text/x-python",
   "name": "python",
   "nbconvert_exporter": "python",
   "pygments_lexer": "ipython3",
   "version": "3.7.3"
  }
 },
 "nbformat": 4,
 "nbformat_minor": 2
}
