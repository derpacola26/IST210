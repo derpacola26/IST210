{
  "nbformat": 4,
  "nbformat_minor": 0,
  "metadata": {
    "colab": {
      "name": "actors.ipynb",
      "provenance": [],
      "include_colab_link": true
    },
    "kernelspec": {
      "name": "python3",
      "display_name": "Python 3"
    }
  },
  "cells": [
    {
      "cell_type": "markdown",
      "metadata": {
        "id": "view-in-github",
        "colab_type": "text"
      },
      "source": [
        "<a href=\"https://colab.research.google.com/github/derpacola26/IST210/blob/master/actors.ipynb\" target=\"_parent\"><img src=\"https://colab.research.google.com/assets/colab-badge.svg\" alt=\"Open In Colab\"/></a>"
      ]
    },
    {
      "cell_type": "markdown",
      "metadata": {
        "id": "ZZdyXvV9c7pV",
        "colab_type": "text"
      },
      "source": [
        "# This is my notebook with actors"
      ]
    },
    {
      "cell_type": "markdown",
      "metadata": {
        "id": "onM4xg1Wdf1h",
        "colab_type": "text"
      },
      "source": [
        "![four actors hanging out](https://raw.githubusercontent.com/derpacola26/IST210/2b5b17125f7c8a720725d90aa4e271daeab345aa/Untitled%20Diagram.png)"
      ]
    }
  ]
}