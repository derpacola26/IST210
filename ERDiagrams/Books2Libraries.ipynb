{
  "nbformat": 4,
  "nbformat_minor": 0,
  "metadata": {
    "colab": {
      "name": "Books2Libraries.ipynb",
      "provenance": [],
      "collapsed_sections": [],
      "include_colab_link": true
    },
    "kernelspec": {
      "name": "python3",
      "display_name": "Python 3"
    }
  },
  "cells": [
    {
      "cell_type": "markdown",
      "metadata": {
        "id": "view-in-github",
        "colab_type": "text"
      },
      "source": [
        "<a href=\"https://colab.research.google.com/github/dudaspm/IST210/blob/master/ERDiagrams/Books2Libraries.ipynb\" target=\"_parent\"><img src=\"https://colab.research.google.com/assets/colab-badge.svg\" alt=\"Open In Colab\"/></a>"
      ]
    },
    {
      "cell_type": "markdown",
      "metadata": {
        "id": "Zs9xT30cVBVn",
        "colab_type": "text"
      },
      "source": [
        "This is a step by step approach to creating tables using an ER Diagram."
      ]
    },
    {
      "cell_type": "markdown",
      "metadata": {
        "id": "cLZ-hhPLVL6X",
        "colab_type": "text"
      },
      "source": [
        "Example: Books to Libraries"
      ]
    },
    {
      "cell_type": "markdown",
      "metadata": {
        "id": "lTyeapwOVQEf",
        "colab_type": "text"
      },
      "source": [
        "![alt text](https://raw.githubusercontent.com/dudaspm/IST210/master/ERDiagrams/images/relationship3.png)"
      ]
    },
    {
      "cell_type": "code",
      "metadata": {
        "id": "V3rLo4CYVUtr",
        "colab_type": "code",
        "colab": {}
      },
      "source": [
        ""
      ],
      "execution_count": 0,
      "outputs": []
    }
  ]
}