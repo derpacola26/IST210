{
  "nbformat": 4,
  "nbformat_minor": 0,
  "metadata": {
    "colab": {
      "name": "LearningSQL.ipynb",
      "provenance": [],
      "collapsed_sections": [],
      "include_colab_link": true
    },
    "kernelspec": {
      "name": "python3",
      "display_name": "Python 3"
    }
  },
  "cells": [
    {
      "cell_type": "markdown",
      "metadata": {
        "id": "view-in-github",
        "colab_type": "text"
      },
      "source": [
        "<a href=\"https://colab.research.google.com/github/dudaspm/IST210/blob/master/StartingSQL/LearningSQL.ipynb\" target=\"_parent\"><img src=\"https://colab.research.google.com/assets/colab-badge.svg\" alt=\"Open In Colab\"/></a>"
      ]
    },
    {
      "cell_type": "markdown",
      "metadata": {
        "id": "REiAaog9SMNY",
        "colab_type": "text"
      },
      "source": [
        "This notebook is setup to let you learn about SQL. "
      ]
    },
    {
      "cell_type": "markdown",
      "metadata": {
        "id": "0zAIVnz3Sz0m",
        "colab_type": "text"
      },
      "source": [
        "First, let's get the data we will be working with today. \n",
        "\n",
        "#### Seattle Weather\n",
        "from: https://vega.github.io/vega-datasets "
      ]
    },
    {
      "cell_type": "code",
      "metadata": {
        "id": "NwStzQz1S9w0",
        "colab_type": "code",
        "outputId": "1a91e2fd-b0a4-4ad1-8953-94d4a5e226a5",
        "colab": {
          "base_uri": "https://localhost:8080/",
          "height": 102
        }
      },
      "source": [
        "#Used to make requests\n",
        "import urllib\n",
        "\n",
        "f = urllib.request.urlopen(\"https://vega.github.io/vega-datasets/data/seattle-weather.csv\")\n",
        "text = str(f.read().decode('utf-8'))\n",
        "\n",
        "for line in text.split(\"\\n\")[0:5]:\n",
        "  print (line.split(\",\"))"
      ],
      "execution_count": 38,
      "outputs": [
        {
          "output_type": "stream",
          "text": [
            "['date', 'precipitation', 'temp_max', 'temp_min', 'wind', 'weather']\n",
            "['2012/01/01', '0.0', '12.8', '5.0', '4.7', 'drizzle']\n",
            "['2012/01/02', '10.9', '10.6', '2.8', '4.5', 'rain']\n",
            "['2012/01/03', '0.8', '11.7', '7.2', '2.3', 'rain']\n",
            "['2012/01/04', '20.3', '12.2', '5.6', '4.7', 'rain']\n"
          ],
          "name": "stdout"
        }
      ]
    },
    {
      "cell_type": "markdown",
      "metadata": {
        "id": "GJ-89LlkUkMO",
        "colab_type": "text"
      },
      "source": [
        "Let's create a database and table to house this data. For this exercise, we will be using SQLite. "
      ]
    },
    {
      "cell_type": "markdown",
      "metadata": {
        "id": "SRD77-BfYaxb",
        "colab_type": "text"
      },
      "source": [
        "When it comes to using SQLite in Python, we need to first activate the SQLite library. We do this by using import."
      ]
    },
    {
      "cell_type": "code",
      "metadata": {
        "id": "BRggfLQHTAcn",
        "colab_type": "code",
        "colab": {}
      },
      "source": [
        "import sqlite3 # Once imported in a single notebook, it is available to us throughout the rest of the notebook. "
      ],
      "execution_count": 0,
      "outputs": []
    },
    {
      "cell_type": "markdown",
      "metadata": {
        "id": "HgBZoBk6YlmU",
        "colab_type": "text"
      },
      "source": [
        "Now, we connect to the database. \n",
        "\n",
        "* But wait.. we didn't create the database yet. How is it going to connect? \n",
        "\n",
        "Connecting will create the database, if there is no database available by that name. "
      ]
    },
    {
      "cell_type": "code",
      "metadata": {
        "id": "ABIYVyH9YmAc",
        "colab_type": "code",
        "colab": {}
      },
      "source": [
        "# connect to database, if not there, create it.\n",
        "con = sqlite3.connect('WeatherData') "
      ],
      "execution_count": 0,
      "outputs": []
    },
    {
      "cell_type": "markdown",
      "metadata": {
        "id": "KzcXW9X0ZVo-",
        "colab_type": "text"
      },
      "source": [
        "Great! The database is now created. \n",
        "\n",
        "* How do we interact with it? \n",
        "\n",
        "We create a *cursor* to the database."
      ]
    },
    {
      "cell_type": "code",
      "metadata": {
        "id": "D_O4g45uZpUG",
        "colab_type": "code",
        "colab": {}
      },
      "source": [
        "cursor = con.cursor()"
      ],
      "execution_count": 0,
      "outputs": []
    },
    {
      "cell_type": "markdown",
      "metadata": {
        "id": "SAVXJ4TFVFOP",
        "colab_type": "text"
      },
      "source": [
        "The first SQL that we need is to create the weather table. This is done using CREATE and listing the attributes, their attribute types, and any primary keys.\n",
        "\n",
        "We will use our *cursor* to *execute* a specific command. This case CREATE.\n",
        "\n",
        "**IMPORTANT** to make sure we handling things correctly, there is an additional step. We must *commit* these changes to the database."
      ]
    },
    {
      "cell_type": "code",
      "metadata": {
        "id": "QBB01HflVGvf",
        "colab_type": "code",
        "colab": {}
      },
      "source": [
        "cursor.execute('''create table IF NOT EXISTS seattleWeather (date text PRIMARY KEY, precipitation real, temp_max real, temp_min real, wind real, weather text)''')\n",
        "con.commit()"
      ],
      "execution_count": 0,
      "outputs": []
    },
    {
      "cell_type": "markdown",
      "metadata": {
        "id": "ZeuG-d4YVTvN",
        "colab_type": "text"
      },
      "source": [
        "\n",
        "\n",
        "*   INTEGER\n",
        "  * whole number\n",
        "*   REAL\n",
        "  * float value\n",
        "*   TEXT\n",
        "  * characters, strings\n",
        "*   BLOB\n",
        "  * Not recommmend, but images/videos\n"
      ]
    },
    {
      "cell_type": "markdown",
      "metadata": {
        "id": "9yZk3Z_NXt-t",
        "colab_type": "text"
      },
      "source": [
        "Next, we need to INSERT data into our table. \n",
        "\n",
        "This first time through, we will be just inserting a single value."
      ]
    },
    {
      "cell_type": "code",
      "metadata": {
        "id": "7lroQuGVVg-_",
        "colab_type": "code",
        "colab": {}
      },
      "source": [
        "cursor.execute('''insert into seattleWeather values ('2012/01/01', 0.0, 12.8, 5.0, 4.7, 'drizzle' );''')\n",
        "con.commit()"
      ],
      "execution_count": 0,
      "outputs": []
    },
    {
      "cell_type": "markdown",
      "metadata": {
        "id": "L_Q4Y_6EX26z",
        "colab_type": "text"
      },
      "source": [
        "Now, let's check and make sure it is there in our table.\n",
        "\n",
        "We will be using a SELECT statement. \n",
        "\n",
        "Reminder, * - means wildcard."
      ]
    },
    {
      "cell_type": "code",
      "metadata": {
        "id": "6LYson9VWHXe",
        "colab_type": "code",
        "outputId": "22aa73d8-df36-4fae-c12a-ff9bf6c51262",
        "colab": {
          "base_uri": "https://localhost:8080/",
          "height": 34
        }
      },
      "source": [
        "cursor.execute('''select * from seattleWeather;''')\n",
        "print (cursor.fetchall())"
      ],
      "execution_count": 44,
      "outputs": [
        {
          "output_type": "stream",
          "text": [
            "[('2012/01/01', 0.0, 12.8, 5.0, 4.7, 'drizzle')]\n"
          ],
          "name": "stdout"
        }
      ]
    },
    {
      "cell_type": "markdown",
      "metadata": {
        "id": "bZm8SpWPYCZs",
        "colab_type": "text"
      },
      "source": [
        "At this point, we should see this:\n",
        "\n",
        "[('2012/01/01', 0.0, 12.8, 5.0, 4.7, 'drizzle')]"
      ]
    },
    {
      "cell_type": "markdown",
      "metadata": {
        "id": "5scXv48Caisj",
        "colab_type": "text"
      },
      "source": [
        "* What happens if we re-run the insert statement?\n",
        "\n",
        "* Why does this happen?"
      ]
    },
    {
      "cell_type": "markdown",
      "metadata": {
        "id": "JLCzlCk7dFLL",
        "colab_type": "text"
      },
      "source": [
        "Finally, we might want to delete or DROP the table. Remember, this will **permanently** delete **ALL** data from the table. "
      ]
    },
    {
      "cell_type": "code",
      "metadata": {
        "id": "ZSJKmRC6XWSl",
        "colab_type": "code",
        "colab": {}
      },
      "source": [
        "cursor.execute('''drop table seattleWeather;''')\n",
        "con.commit()"
      ],
      "execution_count": 0,
      "outputs": []
    },
    {
      "cell_type": "markdown",
      "metadata": {
        "id": "z5wcZq_CdrAj",
        "colab_type": "text"
      },
      "source": [
        "* What would happen if we would run a select statement now?"
      ]
    },
    {
      "cell_type": "markdown",
      "metadata": {
        "id": "Ao0LaRkSelp2",
        "colab_type": "text"
      },
      "source": [
        "OK, let's create the table again and put all the data in this time. \n",
        "\n",
        "I am also adding a \"IF NOT EXISTS\" clause. This make sure if the table is there, we don't try to create it."
      ]
    },
    {
      "cell_type": "code",
      "metadata": {
        "id": "jLFB3K3TdlK8",
        "colab_type": "code",
        "colab": {}
      },
      "source": [
        "cursor.execute('''create table IF NOT EXISTS seattleWeather (date text PRIMARY KEY, precipitation real, temp_max real, temp_min real, wind real, weather text)''')\n",
        "con.commit()\n",
        "for line in text.split(\"\\n\")[1:-1]:\n",
        "  rowOfData = line.split(\",\")\n",
        "  date = rowOfData[0]\n",
        "  precipitation = rowOfData[1] \n",
        "  temp_max = rowOfData[2] \n",
        "  temp_min = rowOfData[3] \n",
        "  wind = rowOfData[4] \n",
        "  weather = rowOfData[5] \n",
        "  # I like to create a string statement for my inserts. It gives me a chance to see the insert statement before I commit changes.\n",
        "  insertStatement = \"\"\"insert into seattleWeather values (\"%s\",%s,%s,%s,%s,\"%s\")\"\"\" % (date,precipitation,temp_max,temp_min,wind,weather)\n",
        "  cursor.execute(insertStatement)\n",
        "  con.commit() # remember to commit!\n"
      ],
      "execution_count": 0,
      "outputs": []
    },
    {
      "cell_type": "markdown",
      "metadata": {
        "id": "MrJjA6ichV2f",
        "colab_type": "text"
      },
      "source": [
        "We are going to limit our responses from the database by using **limit**"
      ]
    },
    {
      "cell_type": "code",
      "metadata": {
        "id": "W2chH8qfe2ik",
        "colab_type": "code",
        "outputId": "ae3de496-1144-46a3-b20d-bc4d986ea64a",
        "colab": {
          "base_uri": "https://localhost:8080/",
          "height": 102
        }
      },
      "source": [
        "cursor.execute('''select * from seattleWeather limit 5;''')\n",
        "for row in cursor.fetchall():\n",
        "  print (row)"
      ],
      "execution_count": 47,
      "outputs": [
        {
          "output_type": "stream",
          "text": [
            "('2012/01/01', 0.0, 12.8, 5.0, 4.7, 'drizzle')\n",
            "('2012/01/02', 10.9, 10.6, 2.8, 4.5, 'rain')\n",
            "('2012/01/03', 0.8, 11.7, 7.2, 2.3, 'rain')\n",
            "('2012/01/04', 20.3, 12.2, 5.6, 4.7, 'rain')\n",
            "('2012/01/05', 1.3, 8.9, 2.8, 6.1, 'rain')\n"
          ],
          "name": "stdout"
        }
      ]
    },
    {
      "cell_type": "markdown",
      "metadata": {
        "id": "YUVCGePYhUl_",
        "colab_type": "text"
      },
      "source": [
        "Let's try a select statement that select only data that is weather = \"rain\". \n",
        "\n",
        "This is when use the **WHERE** statement."
      ]
    },
    {
      "cell_type": "code",
      "metadata": {
        "id": "fxOTeHCWghbI",
        "colab_type": "code",
        "outputId": "9ee50bc9-b9af-49e7-f6b3-cfe5deb4f9a4",
        "colab": {
          "base_uri": "https://localhost:8080/",
          "height": 187
        }
      },
      "source": [
        "cursor.execute('''select * from seattleWeather where weather = \"rain\" limit 10;''')\n",
        "for row in cursor.fetchall():\n",
        "  print (row)"
      ],
      "execution_count": 48,
      "outputs": [
        {
          "output_type": "stream",
          "text": [
            "('2012/01/02', 10.9, 10.6, 2.8, 4.5, 'rain')\n",
            "('2012/01/03', 0.8, 11.7, 7.2, 2.3, 'rain')\n",
            "('2012/01/04', 20.3, 12.2, 5.6, 4.7, 'rain')\n",
            "('2012/01/05', 1.3, 8.9, 2.8, 6.1, 'rain')\n",
            "('2012/01/06', 2.5, 4.4, 2.2, 2.2, 'rain')\n",
            "('2012/01/07', 0.0, 7.2, 2.8, 2.3, 'rain')\n",
            "('2012/01/09', 4.3, 9.4, 5.0, 3.4, 'rain')\n",
            "('2012/01/10', 1.0, 6.1, 0.6, 3.4, 'rain')\n",
            "('2012/01/21', 3.0, 8.3, 3.3, 8.2, 'rain')\n",
            "('2012/01/22', 6.1, 6.7, 2.2, 4.8, 'rain')\n"
          ],
          "name": "stdout"
        }
      ]
    },
    {
      "cell_type": "code",
      "metadata": {
        "id": "y2SEbHFyhwdb",
        "colab_type": "code",
        "colab": {}
      },
      "source": [
        ""
      ],
      "execution_count": 0,
      "outputs": []
    }
  ]
}