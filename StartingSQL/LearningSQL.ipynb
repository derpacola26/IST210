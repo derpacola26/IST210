{
  "nbformat": 4,
  "nbformat_minor": 0,
  "metadata": {
    "colab": {
      "name": "LearningSQL.ipynb",
      "provenance": [],
      "collapsed_sections": [],
      "include_colab_link": true
    },
    "kernelspec": {
      "name": "python3",
      "display_name": "Python 3"
    }
  },
  "cells": [
    {
      "cell_type": "markdown",
      "metadata": {
        "id": "view-in-github",
        "colab_type": "text"
      },
      "source": [
        "<a href=\"https://colab.research.google.com/github/dudaspm/IST210/blob/master/StartingSQL/LearningSQL.ipynb\" target=\"_parent\"><img src=\"https://colab.research.google.com/assets/colab-badge.svg\" alt=\"Open In Colab\"/></a>"
      ]
    },
    {
      "cell_type": "code",
      "metadata": {
        "id": "kMI8CTxESI20",
        "colab_type": "code",
        "colab": {}
      },
      "source": [
        ""
      ],
      "execution_count": 0,
      "outputs": []
    },
    {
      "cell_type": "markdown",
      "metadata": {
        "id": "REiAaog9SMNY",
        "colab_type": "text"
      },
      "source": [
        "This notebook is setup to let you learn about SQL. "
      ]
    },
    {
      "cell_type": "markdown",
      "metadata": {
        "id": "0zAIVnz3Sz0m",
        "colab_type": "text"
      },
      "source": [
        "First, let's get the data we will be working with today. \n",
        "\n",
        "#### Seattle Weather\n",
        "from: https://vega.github.io/vega-datasets "
      ]
    },
    {
      "cell_type": "code",
      "metadata": {
        "id": "NwStzQz1S9w0",
        "colab_type": "code",
        "colab": {
          "base_uri": "https://localhost:8080/",
          "height": 102
        },
        "outputId": "ac8d06fa-b6b8-4f4f-9cb6-dd63309021b7"
      },
      "source": [
        "#Used to make requests\n",
        "import urllib\n",
        "\n",
        "f = urllib.request.urlopen(\"https://vega.github.io/vega-datasets/data/seattle-weather.csv\")\n",
        "text = str(f.read().decode('utf-8'))\n",
        "\n",
        "for line in text.split(\"\\n\")[0:5]:\n",
        "  print (line.split(\",\"))"
      ],
      "execution_count": 16,
      "outputs": [
        {
          "output_type": "stream",
          "text": [
            "['date', 'precipitation', 'temp_max', 'temp_min', 'wind', 'weather']\n",
            "['2012/01/01', '0.0', '12.8', '5.0', '4.7', 'drizzle']\n",
            "['2012/01/02', '10.9', '10.6', '2.8', '4.5', 'rain']\n",
            "['2012/01/03', '0.8', '11.7', '7.2', '2.3', 'rain']\n",
            "['2012/01/04', '20.3', '12.2', '5.6', '4.7', 'rain']\n"
          ],
          "name": "stdout"
        }
      ]
    },
    {
      "cell_type": "markdown",
      "metadata": {
        "id": "GJ-89LlkUkMO",
        "colab_type": "text"
      },
      "source": [
        "Let's create a database and table to house this data. For this exercise, we will be using SQLite. "
      ]
    },
    {
      "cell_type": "code",
      "metadata": {
        "id": "BRggfLQHTAcn",
        "colab_type": "code",
        "colab": {}
      },
      "source": [
        "import sqlite3\n",
        "# using the SQLite Table to read data.\n",
        "con = sqlite3.connect('WeatherData') "
      ],
      "execution_count": 0,
      "outputs": []
    },
    {
      "cell_type": "code",
      "metadata": {
        "id": "QBB01HflVGvf",
        "colab_type": "code",
        "colab": {}
      },
      "source": [
        "cursor = con.cursor()\n",
        "cursor.execute('''create TABLE weather(date text PRIMARY KEY, precipitation real, temp_max real, temp_min real, wind real, weather text)''')\n",
        "con.commit()"
      ],
      "execution_count": 0,
      "outputs": []
    },
    {
      "cell_type": "code",
      "metadata": {
        "id": "7lroQuGVVg-_",
        "colab_type": "code",
        "colab": {}
      },
      "source": [
        "cursor = con.cursor()\n",
        "cursor.execute('''insert INTO weather VALUES ('2012/01/01', 0.0, 12.8, 5.0, 4.7, 'drizzle' );''')\n",
        "con.commit()"
      ],
      "execution_count": 0,
      "outputs": []
    },
    {
      "cell_type": "code",
      "metadata": {
        "id": "6LYson9VWHXe",
        "colab_type": "code",
        "colab": {
          "base_uri": "https://localhost:8080/",
          "height": 34
        },
        "outputId": "3e5ab8cf-65dc-42a8-fd2a-a532c050f8a7"
      },
      "source": [
        "cursor = con.cursor()\n",
        "cursor.execute('''select * from weather;''')\n",
        "print (cursor.fetchall())\n",
        "con.commit()"
      ],
      "execution_count": 25,
      "outputs": [
        {
          "output_type": "stream",
          "text": [
            "[('2012/01/01', 0.0, 12.8, 5.0, 4.7, 'drizzle')]\n"
          ],
          "name": "stdout"
        }
      ]
    },
    {
      "cell_type": "code",
      "metadata": {
        "id": "ZSJKmRC6XWSl",
        "colab_type": "code",
        "colab": {}
      },
      "source": [
        ""
      ],
      "execution_count": 0,
      "outputs": []
    }
  ]
}