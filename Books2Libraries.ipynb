{
  "nbformat": 4,
  "nbformat_minor": 0,
  "metadata": {
    "colab": {
      "name": "Copy of Books2Libraries.ipynb",
      "provenance": [],
      "collapsed_sections": []
    },
    "kernelspec": {
      "name": "python3",
      "display_name": "Python 3"
    }
  },
  "cells": [
    {
      "cell_type": "markdown",
      "metadata": {
        "id": "Zs9xT30cVBVn",
        "colab_type": "text"
      },
      "source": [
        "This is a step by step approach to creating tables using an ER Diagram."
      ]
    },
    {
      "cell_type": "markdown",
      "metadata": {
        "id": "cLZ-hhPLVL6X",
        "colab_type": "text"
      },
      "source": [
        "Example: Books to Libraries"
      ]
    },
    {
      "cell_type": "markdown",
      "metadata": {
        "id": "lTyeapwOVQEf",
        "colab_type": "text"
      },
      "source": [
        "![alt text](https://raw.githubusercontent.com/dudaspm/IST210/master/ERDiagrams/images/relationship3.png)"
      ]
    },
    {
      "cell_type": "markdown",
      "metadata": {
        "id": "iqXHAjBFiloz",
        "colab_type": "text"
      },
      "source": [
        "First, let's add some attributes to each table. "
      ]
    },
    {
      "cell_type": "markdown",
      "metadata": {
        "id": "ZcyiEkjOirqK",
        "colab_type": "text"
      },
      "source": [
        "Books will be as followed:"
      ]
    },
    {
      "cell_type": "markdown",
      "metadata": {
        "id": "iOjHsEvDiv86",
        "colab_type": "text"
      },
      "source": [
        "<img src=\"https://raw.githubusercontent.com/dudaspm/IST210/master/ERDiagrams/images/books.png\" height=\"300px\" alt=\"Drawing\" />\n"
      ]
    },
    {
      "cell_type": "markdown",
      "metadata": {
        "id": "STMyDPO_kZKP",
        "colab_type": "text"
      },
      "source": [
        "Where, \n",
        "\n",
        "ISBN - is the International Standard Book Number (primary key)\n",
        "\n",
        "Title - title of the book\n",
        "\n",
        "Author - author of the book\n",
        "\n",
        "Fiction - is a boolean, either fiction/nonfiction\n",
        "\n",
        "Publisher - publisher of the book\n",
        "\n",
        "Year - what year the book was published\n",
        "\n",
        "Library - is the library id in which the book is located\n"
      ]
    },
    {
      "cell_type": "markdown",
      "metadata": {
        "id": "MTjPRiJmk4qo",
        "colab_type": "text"
      },
      "source": [
        "Libraries as followed:"
      ]
    },
    {
      "cell_type": "markdown",
      "metadata": {
        "id": "wYRa9cATlBR3",
        "colab_type": "text"
      },
      "source": [
        "<img src=\"https://raw.githubusercontent.com/dudaspm/IST210/master/ERDiagrams/images/libraries.png\" height=\"300px\" alt=\"Drawing\" />"
      ]
    },
    {
      "cell_type": "markdown",
      "metadata": {
        "id": "7EGd0wRjlFGf",
        "colab_type": "text"
      },
      "source": [
        "Where, \n",
        "\n",
        "LibraryID - is a unique ID for each library added (primary key)\n",
        "\n",
        "Name - the name of the library\n",
        "\n",
        "StreetAddress - the street address of the library\n",
        "\n",
        "City - the city the library is located\n",
        "\n",
        "State - the state the library is located\n",
        "\n",
        "Zip - the zip the library is located\n"
      ]
    },
    {
      "cell_type": "markdown",
      "metadata": {
        "id": "KlY3Vg9HlZI3",
        "colab_type": "text"
      },
      "source": [
        "Let's add some data to see how things are looking. "
      ]
    },
    {
      "cell_type": "markdown",
      "metadata": {
        "id": "um5Xu6f4ntIJ",
        "colab_type": "text"
      },
      "source": [
        "### Books Data"
      ]
    },
    {
      "cell_type": "markdown",
      "metadata": {
        "id": "lcdS-eddlcrQ",
        "colab_type": "text"
      },
      "source": [
        "ISBN | Title | Author | Fiction | Publisher | Year | Library |\n",
        "--- | --- | ---| ---| ---| ---| ---\n",
        "9781616895327 | Dear Data  | Giorgia Lupi, Stefanie Posavec | NonFiction | Princeton Architectural Press  | 2016 | 00,01 |\n",
        "9780961392147 | The Visual Display of Quantitative Information | Edward R. Tufte | NonFiction | Graphics Pr | 2001 | 00,01,02 |\n",
        "91317719102XX | Are Pancakes the Best Food Ever? | Patrick Dudas |  NonFiction | My Garage INC. | 2015 |  \n",
        "\n"
      ]
    },
    {
      "cell_type": "markdown",
      "metadata": {
        "id": "xuf6KP5xnwlY",
        "colab_type": "text"
      },
      "source": [
        "### Libraries Data"
      ]
    },
    {
      "cell_type": "markdown",
      "metadata": {
        "id": "s3FyaYTjn78H",
        "colab_type": "text"
      },
      "source": [
        "LibraryID | Name | StreetAddress | City | State | Zip \n",
        "--- | --- | --- | --- | --- | --- \n",
        "00 | PSU Library | 107 Pattee library Rd | State College | PA | 16801 \n",
        "01 | Schlow Centre Region Library | 211 S Allen St | State College | PA | 16801 \n",
        "02 | Architecture Library | 111 Stuckeman Family Bldg | State College | PA | 16802 \n",
        "\n",
        "\n",
        "\n",
        "\n",
        "\n"
      ]
    },
    {
      "cell_type": "markdown",
      "metadata": {
        "id": "XJtjktuTqKqV",
        "colab_type": "text"
      },
      "source": [
        "### Let's take a look at the relationships."
      ]
    },
    {
      "cell_type": "markdown",
      "metadata": {
        "id": "pwH-sYQnpowL",
        "colab_type": "text"
      },
      "source": [
        "First, for each book, we can have:\n",
        "\n",
        "\n",
        "1.   A NULL value\n",
        "2.   Multiple libraries\n",
        "\n",
        "Meaning, we have an *optional relationship* and* multi-relationship*, so 0 - M\n"
      ]
    },
    {
      "cell_type": "markdown",
      "metadata": {
        "id": "9uJ11k0WqIC0",
        "colab_type": "text"
      },
      "source": [
        "\n",
        "Second, for each library, we can have:\n",
        "\n",
        "\n",
        "\n",
        "1.   Each Library can have multiple books.\n",
        "2.   Each library must contain at least 1 book (but we should assume they have at least 100 books).\n",
        "\n",
        "\n",
        "\n",
        "\n",
        "Meaning, we have an *mandatory relationship* and *multi-relationship*, so 1 - M"
      ]
    },
    {
      "cell_type": "markdown",
      "metadata": {
        "id": "nBxXx1jFrNKF",
        "colab_type": "text"
      },
      "source": [
        "### Let's check out the ER Diagram "
      ]
    },
    {
      "cell_type": "markdown",
      "metadata": {
        "id": "xOOaVaSNxDIS",
        "colab_type": "text"
      },
      "source": [
        "<img src=\"https://raw.githubusercontent.com/dudaspm/IST210/master/ERDiagrams/images/Books2Libraries.png\" height=\"300px\" alt=\"Books to Libraries Relationship\" />"
      ]
    },
    {
      "cell_type": "markdown",
      "metadata": {
        "id": "5Dh16lyrxY0F",
        "colab_type": "text"
      },
      "source": [
        "## Normalization"
      ]
    },
    {
      "cell_type": "markdown",
      "metadata": {
        "id": "vIbNgPovxbPt",
        "colab_type": "text"
      },
      "source": [
        "### First Normal Form (1NF)"
      ]
    },
    {
      "cell_type": "markdown",
      "metadata": {
        "id": "So9xh7Cuxh1e",
        "colab_type": "text"
      },
      "source": [
        "Rules:\n",
        "Table Format\n",
        "*   Create a separate table for each set of related data\n",
        "\n",
        "No repeating groups\n",
        "*   Multivalued attributes and Composite attributes\n",
        "  *   Multiple Valued Attributes\n",
        "  *   Attributes with multiple values\n",
        "  *   As in, Genre == Comedy, Action\n",
        "*  Composite Attributes * not technically a repeating group\n",
        "  *   HomeTown\n",
        "  *   City, State, Country\n",
        "  \n",
        "All tables have a primary key\n",
        "\n"
      ]
    },
    {
      "cell_type": "markdown",
      "metadata": {
        "id": "yjD-eBaLx7q9",
        "colab_type": "text"
      },
      "source": [
        "Does our table meet 1NF?"
      ]
    }
  ]
}