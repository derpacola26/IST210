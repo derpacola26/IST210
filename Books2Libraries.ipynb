{
 "cells": [
  {
   "cell_type": "markdown",
   "metadata": {
    "colab_type": "text",
    "id": "Zs9xT30cVBVn"
   },
   "source": [
    "This is a step by step approach to creating tables using an ER Diagram."
   ]
  },
  {
   "cell_type": "markdown",
   "metadata": {
    "colab_type": "text",
    "id": "cLZ-hhPLVL6X"
   },
   "source": [
    "Example: Books to Libraries"
   ]
  },
  {
   "cell_type": "markdown",
   "metadata": {
    "colab_type": "text",
    "id": "lTyeapwOVQEf"
   },
   "source": [
    "![alt text](https://raw.githubusercontent.com/dudaspm/IST210/master/ERDiagrams/images/relationship3.png)"
   ]
  },
  {
   "cell_type": "markdown",
   "metadata": {
    "colab_type": "text",
    "id": "iqXHAjBFiloz"
   },
   "source": [
    "First, let's add some attributes to each table. "
   ]
  },
  {
   "cell_type": "markdown",
   "metadata": {
    "colab_type": "text",
    "id": "ZcyiEkjOirqK"
   },
   "source": [
    "Books will be as followed:"
   ]
  },
  {
   "cell_type": "markdown",
   "metadata": {
    "colab_type": "text",
    "id": "iOjHsEvDiv86"
   },
   "source": [
    "<img src=\"https://raw.githubusercontent.com/dudaspm/IST210/master/ERDiagrams/images/books.png\" height=\"300px\" alt=\"Drawing\" />\n"
   ]
  },
  {
   "cell_type": "markdown",
   "metadata": {
    "colab_type": "text",
    "id": "STMyDPO_kZKP"
   },
   "source": [
    "Where, \n",
    "\n",
    "ISBN - is the International Standard Book Number (primary key)\n",
    "\n",
    "Title - title of the book\n",
    "\n",
    "Author - author of the book\n",
    "\n",
    "Fiction - is a boolean, either fiction/nonfiction\n",
    "\n",
    "Publisher - publisher of the book\n",
    "\n",
    "Year - what year the book was published\n",
    "\n",
    "Library - is the library id in which the book is located\n"
   ]
  },
  {
   "cell_type": "markdown",
   "metadata": {
    "colab_type": "text",
    "id": "MTjPRiJmk4qo"
   },
   "source": [
    "Libraries as followed:"
   ]
  },
  {
   "cell_type": "markdown",
   "metadata": {
    "colab_type": "text",
    "id": "wYRa9cATlBR3"
   },
   "source": [
    "<img src=\"https://raw.githubusercontent.com/dudaspm/IST210/master/ERDiagrams/images/libraries.png\" height=\"300px\" alt=\"Drawing\" />"
   ]
  },
  {
   "cell_type": "markdown",
   "metadata": {
    "colab_type": "text",
    "id": "7EGd0wRjlFGf"
   },
   "source": [
    "Where, \n",
    "\n",
    "LibraryID - is a unique ID for each library added (primary key)\n",
    "\n",
    "Name - the name of the library\n",
    "\n",
    "StreetAddress - the street address of the library\n",
    "\n",
    "City - the city the library is located\n",
    "\n",
    "State - the state the library is located\n",
    "\n",
    "Zip - the zip the library is located\n"
   ]
  },
  {
   "cell_type": "markdown",
   "metadata": {
    "colab_type": "text",
    "id": "KlY3Vg9HlZI3"
   },
   "source": [
    "Let's add some data to see how things are looking. "
   ]
  },
  {
   "cell_type": "markdown",
   "metadata": {
    "colab_type": "text",
    "id": "um5Xu6f4ntIJ"
   },
   "source": [
    "### Books Data"
   ]
  },
  {
   "cell_type": "markdown",
   "metadata": {
    "colab_type": "text",
    "id": "lcdS-eddlcrQ"
   },
   "source": [
    "<u>ISBN</u> | Title | Author | Fiction | Publisher | Year | Library \n",
    "--- | --- | ---| ---| ---| ---| ---\n",
    "9781616895327 | Dear Data  | Giorgia Lupi, Stefanie Posavec | NonFiction | Princeton Architectural Press  | 2016 | 00,01 \n",
    "9780961392147 | The Visual Display of Quantitative Information | Edward R. Tufte | NonFiction | Graphics Pr | 2001 |  00,01,02 \n",
    "91317719102XX | Are Pancakes the Best Food Ever? | Patrick Dudas |  NonFiction | My Garage INC. | 2015 |   \n",
    "\n"
   ]
  },
  {
   "cell_type": "markdown",
   "metadata": {
    "colab_type": "text",
    "id": "xuf6KP5xnwlY"
   },
   "source": [
    "### Libraries Data"
   ]
  },
  {
   "cell_type": "markdown",
   "metadata": {
    "colab_type": "text",
    "id": "s3FyaYTjn78H"
   },
   "source": [
    "<u>Library</u>  | Name | StreetAddress | City | State | Zip \n",
    "--- | --- | --- | --- | --- | --- \n",
    "00 | PSU Library | 107 Pattee library Rd | State College | PA | 16801 \n",
    "01 | Schlow Centre Region Library | 211 S Allen St | State College | PA | 16801 \n",
    "02 | Architecture Library | 111 Stuckeman Family Bldg | State College | PA | 16802 \n",
    "\n",
    "\n",
    "\n",
    "\n",
    "\n"
   ]
  },
  {
   "cell_type": "markdown",
   "metadata": {
    "colab_type": "text",
    "id": "XJtjktuTqKqV"
   },
   "source": [
    "### Let's take a look at the relationships."
   ]
  },
  {
   "cell_type": "markdown",
   "metadata": {
    "colab_type": "text",
    "id": "pwH-sYQnpowL"
   },
   "source": [
    "First, for each book, we can have:\n",
    "\n",
    "\n",
    "1.   A NULL value\n",
    "2.   Multiple libraries\n",
    "\n",
    "Meaning, we have an *optional relationship* and* multi-relationship*, so 0 - M\n"
   ]
  },
  {
   "cell_type": "markdown",
   "metadata": {
    "colab_type": "text",
    "id": "9uJ11k0WqIC0"
   },
   "source": [
    "\n",
    "Second, for each library, we can have:\n",
    "\n",
    "\n",
    "\n",
    "1.   Each Library can have multiple books.\n",
    "2.   Each library must contain at least 1 book (but we should assume they have at least 100 books).\n",
    "\n",
    "\n",
    "\n",
    "\n",
    "Meaning, we have an *mandatory relationship* and *multi-relationship*, so 1 - M"
   ]
  },
  {
   "cell_type": "markdown",
   "metadata": {
    "colab_type": "text",
    "id": "nBxXx1jFrNKF"
   },
   "source": [
    "### Let's check out the ER Diagram "
   ]
  },
  {
   "cell_type": "markdown",
   "metadata": {
    "colab_type": "text",
    "id": "xOOaVaSNxDIS"
   },
   "source": [
    "<img src=\"https://raw.githubusercontent.com/dudaspm/IST210/master/ERDiagrams/images/Books2Libraries.png\" height=\"300px\" alt=\"Books to Libraries Relationship\" />"
   ]
  },
  {
   "cell_type": "markdown",
   "metadata": {
    "colab_type": "text",
    "id": "5Dh16lyrxY0F"
   },
   "source": [
    "## Normalization"
   ]
  },
  {
   "cell_type": "markdown",
   "metadata": {
    "colab_type": "text",
    "id": "vIbNgPovxbPt"
   },
   "source": [
    "### First Normal Form (1NF)"
   ]
  },
  {
   "cell_type": "markdown",
   "metadata": {
    "colab_type": "text",
    "id": "So9xh7Cuxh1e"
   },
   "source": [
    "Rules:\n",
    "\n",
    "Table Format\n",
    "*   Create a separate table for each set of related data\n",
    "\n",
    "No repeating groups\n",
    "*   Multivalued attributes and Composite attributes\n",
    "  *   Multiple Valued Attributes\n",
    "  *   Attributes with multiple values\n",
    "  *   As in, Genre == Comedy, Action\n",
    "*  Composite Attributes * not technically a repeating group\n",
    "  *   HomeTown\n",
    "  *   City, State, Country\n",
    "  \n",
    "All tables have a primary key\n",
    "\n"
   ]
  },
  {
   "cell_type": "markdown",
   "metadata": {},
   "source": [
    "### 1st Normal Form"
   ]
  },
  {
   "cell_type": "markdown",
   "metadata": {
    "colab_type": "text",
    "id": "yjD-eBaLx7q9"
   },
   "source": [
    "Does our table meet 1NF?"
   ]
  },
  {
   "cell_type": "markdown",
   "metadata": {
    "colab_type": "text",
    "id": "R67aG_3k7hTn"
   },
   "source": [
    "The answer is no. Why? Because we have two repeating groups (Author and Library). \n",
    "\n",
    "Let's take a look:"
   ]
  },
  {
   "cell_type": "markdown",
   "metadata": {
    "colab_type": "text",
    "id": "YzfGVbod7tr0"
   },
   "source": [
    "<u>ISBN</u> | Title | ***Author*** | Fiction | Publisher | Year | ***Library*** \n",
    "--- | --- | ---| ---| ---| ---| ---\n",
    "9781616895327 | Dear Data  | Giorgia Lupi, Stefanie Posavec | NonFiction | Princeton Architectural Press  | 2016 | 00,01 \n",
    "9780961392147 | The Visual Display of Quantitative Information | Edward R. Tufte | NonFiction | Graphics Pr | 2001 |  00,01,02 \n",
    "91317719102XX | Are Pancakes the Best Food Ever? | Patrick Dudas |  NonFiction | My Garage INC. | 2015 |   "
   ]
  },
  {
   "cell_type": "markdown",
   "metadata": {
    "colab_type": "text",
    "id": "YGd3c-Fa7yi8"
   },
   "source": [
    "To remove the repeating groups we need to shift the data a bit and redefine our primary keys. First, with the authors."
   ]
  },
  {
   "cell_type": "markdown",
   "metadata": {
    "colab_type": "text",
    "id": "yncj-ZPQ78WO"
   },
   "source": [
    "<u>ISBN</u> | Title | <u>Author</u> | Fiction | Publisher | Year | Library \n",
    "--- | --- | ---| ---| ---| ---| ---\n",
    "9781616895327 | Dear Data  | Giorgia Lupi | NonFiction | Princeton Architectural Press  | 2016 | 00,01 \n",
    "9781616895327 | Dear Data  |  Stefanie Posavec | NonFiction | Princeton Architectural Press  | 2016 | 00,01 \n",
    "9780961392147 | The Visual Display of Quantitative Information | Edward R. Tufte | NonFiction | Graphics Pr | 2001 |  00,01,02 \n",
    "91317719102XX | Are Pancakes the Best Food Ever? | Patrick Dudas |  NonFiction | My Garage INC. | 2015 |   "
   ]
  },
  {
   "cell_type": "markdown",
   "metadata": {
    "colab_type": "text",
    "id": "RiudI6QR8GX1"
   },
   "source": [
    "Then with our libraries."
   ]
  },
  {
   "cell_type": "markdown",
   "metadata": {
    "colab_type": "text",
    "id": "h3Xv6n5J8J9e"
   },
   "source": [
    "<u>ISBN</u> | Title | <u>Author</u> | Fiction | Publisher | Year | <u>Library</u>\n",
    "--- | --- | ---| ---| ---| ---| ---\n",
    "9781616895327 | Dear Data  | Giorgia Lupi | NonFiction | Princeton Architectural Press  | 2016 | 00 \n",
    "9781616895327 | Dear Data  |  Stefanie Posavec | NonFiction | Princeton Architectural Press  | 2016 | 00\n",
    "9781616895327 | Dear Data  | Giorgia Lupi | NonFiction | Princeton Architectural Press  | 2016 | 01 \n",
    "9781616895327 | Dear Data  |  Stefanie Posavec | NonFiction | Princeton Architectural Press  | 2016 | 01 \n",
    "9780961392147 | The Visual Display of Quantitative Information | Edward R. Tufte | NonFiction | Graphics Pr | 2001 |  00 \n",
    "9780961392147 | The Visual Display of Quantitative Information | Edward R. Tufte | NonFiction | Graphics Pr | 2001 |  01\n",
    "9780961392147 | The Visual Display of Quantitative Information | Edward R. Tufte | NonFiction | Graphics Pr | 2001 | 02 \n",
    "91317719102XX | Are Pancakes the Best Food Ever? | Patrick Dudas |  NonFiction | My Garage INC. | 2015 |   \n"
   ]
  },
  {
   "cell_type": "markdown",
   "metadata": {
    "colab_type": "text",
    "id": "O2Hp8U_49EUR"
   },
   "source": [
    "Stop and ask yourself. Does this work? <Think, think, think..>"
   ]
  },
  {
   "cell_type": "markdown",
   "metadata": {
    "colab_type": "text",
    "id": "YafQpVOl9ORQ"
   },
   "source": [
    "The answer is no. A primary cannot be a NULL value and right now ISBN = 91317719102XX has a NULL value for the library. Meaning, we need to setup a new table for book location.\n",
    "\n",
    "#### BookLocation Table\n",
    "\n",
    "<u>ISBN</u> | <u>Library</u>  \n",
    "--- | --- \n",
    "9781616895327 | 00 \n",
    "9781616895327 | 01 \n",
    "9780961392147 | 00 \n",
    "9780961392147 | 01 \n",
    "9780961392147 | 02 \n"
   ]
  },
  {
   "cell_type": "markdown",
   "metadata": {
    "colab_type": "text",
    "id": "8CNArSPA9fZ3"
   },
   "source": [
    "<u>LibraryID</u>  | Name | StreetAddress | City | State | Zip \n",
    "--- | --- | --- | --- | --- | --- \n",
    "00 | PSU Library | 107 Pattee library Rd | State College | PA | 16801 \n",
    "01 | Schlow Centre Region Library | 211 S Allen St | State College | PA | 16801 \n",
    "02 | Architecture Library | 111 Stuckeman Family Bldg | State College | PA | 16802"
   ]
  },
  {
   "cell_type": "markdown",
   "metadata": {
    "colab_type": "text",
    "id": "F0fQi93J-xuR"
   },
   "source": [
    "Now let's update the Book table again."
   ]
  },
  {
   "cell_type": "markdown",
   "metadata": {
    "colab_type": "text",
    "id": "nihHu1j6-2bg"
   },
   "source": [
    "<u>ISBN</u> | Title | <u>Author</u> | Fiction | Publisher | Year \n",
    "--- | --- | ---| ---| ---| --- \n",
    "9781616895327 | Dear Data  | Giorgia Lupi | NonFiction | Princeton Architectural Press  | 2016 \n",
    "9781616895327 | Dear Data  |  Stefanie Posavec | NonFiction | Princeton Architectural Press  | 2016 \n",
    "9780961392147 | The Visual Display of Quantitative Information | Edward R. Tufte | NonFiction | Graphics Pr | 2001   \n",
    "91317719102XX | Are Pancakes the Best Food Ever? | Patrick Dudas |  NonFiction | My Garage INC. | 2015 "
   ]
  },
  {
   "cell_type": "markdown",
   "metadata": {},
   "source": [
    "### 2nd Normal Form"
   ]
  },
  {
   "cell_type": "markdown",
   "metadata": {
    "colab_type": "text",
    "id": "kkIGz4YbCOFH"
   },
   "source": [
    "OK, still not the best. Let's consider 2NF. \n",
    "\n",
    "Rules for 2NF:\n",
    "\n",
    "* Must be in 1st Normal Form\n",
    "\n",
    "* Make new tables to eliminate partial dependencies\n",
    "\n",
    "* Reassign Corresponding Dependent Attributes\n"
   ]
  },
  {
   "cell_type": "markdown",
   "metadata": {
    "colab_type": "text",
    "id": "hZET-Wa5_Ncw"
   },
   "source": [
    "What's a partial dependencies?\n",
    "\n",
    "When an attribute is dependent only on a part of a the primary key (composite key - multiple attributes).\n",
    "\n",
    "If (A,B) is the primary key\n",
    "\n",
    "and (A,B) -> (C,D) {wait... do you remember functional dependency? no? let's talk about this first.}\n",
    "\n",
    "Functional dependency - when one attribute can determine another attribute.. \n",
    "\n"
   ]
  },
  {
   "cell_type": "markdown",
   "metadata": {
    "colab_type": "text",
    "id": "SwanPRY2_fIv"
   },
   "source": [
    "Examples:\n",
    "\n",
    "#### Student Information \n",
    "\n",
    "<u>PSUID</u> | LastName | FirstName \n",
    "--- | --- | ---\n",
    "\n",
    "PSUID -> (LastName,Firstname) is a functional dependency\n",
    "\n",
    "PSUID - Determinant \n",
    "\n",
    "(LastName,Firstname) - Dependent\n",
    "\n",
    "#### Class Information \n",
    "\n",
    "\n",
    "<u>CourseName</u> | <u>CourseSection</u> | Days | Time | Room  \n",
    "--- | --- | --- | --- | ---\n",
    "\n",
    "(CourseName,CourseSection) -> (Days,Time,Room) is a functional dependency\n",
    "\n",
    "(CourseName,CourseSection) - Determinant \n",
    "\n",
    "(Days,Time,Room) - Dependent\n",
    "\n",
    "OK, here is a special case\n",
    "\n",
    "#### Course Schedule \n",
    "\n",
    "<u>PSUID</u> | <u>CourseName</u> | <u>CourseSection</u> | LastName | FirstName | Days | Time | Room \n",
    "--- | --- | --- | --- | --- | --- | --- | ---\n",
    "\n",
    "(PSUID,CourseName,CourseSection) -> (LastName,FirstName,Days,Time,Room) is a functional dependency\n",
    "\n",
    "(PSUID,CourseName,CourseSection) - Determinant \n",
    "\n",
    "(LastName,FirstName,Days,Time,Room) - Dependent\n",
    "\n",
    "So, what's the problem?\n",
    "\n",
    "This is called *Partial Dependency*\n",
    "\n",
    "Why? \n",
    "\n",
    "Because.. Technically. \n",
    "\n",
    "PSUID -> (LastName,Firstname) and\n",
    "\n",
    "(CourseName,CourseSection) -> (Days,Time,Room) \n",
    "\n",
    "Let's go back to our definition of 2nd Normal Form."
   ]
  },
  {
   "cell_type": "markdown",
   "metadata": {
    "colab": {},
    "colab_type": "code",
    "id": "R8bbLU9N7wSa"
   },
   "source": [
    "What's a partial dependencies?\n",
    "\n",
    "When an attribute is dependent only on a part of a the primary key (composite key - multiple attributes).\n",
    "\n",
    "If (A,B) is the primary key\n",
    "\n",
    "and (A,B) -> (C,D) \n",
    "\n",
    "and B -> C\n",
    "\n",
    "we need a new table for B -> C!"
   ]
  },
  {
   "cell_type": "markdown",
   "metadata": {},
   "source": [
    "Let's fix our Library database."
   ]
  },
  {
   "cell_type": "markdown",
   "metadata": {},
   "source": [
    "<u>ISBN</u> | Title | <u>Author</u> | Fiction | Publisher | Year | <u>Library</u>\n",
    "--- | --- | ---| ---| ---| ---| ---"
   ]
  },
  {
   "cell_type": "markdown",
   "metadata": {},
   "source": [
    "Let's carve out the functional dependencies\n",
    "\n",
    "(ISBN, Author) -> (Title, Fiction, Publisher, Year) \n",
    "\n",
    "ISBN -> (Title, Author, Fiction, Publisher, Year) partial dependency!\n",
    "\n",
    "We can actaully split this up by Author\n",
    "\n",
    "#### Book Table\n",
    "\n",
    "<u>ISBN</u> | Title  | Fiction | Publisher | Year \n",
    "--- | --- | ---| ---| ---\n",
    "9781616895327 | Dear Data | NonFiction | Princeton Architectural Press | 2016 \n",
    "9780961392147 | The Visual Display of Quantitative Information | NonFiction | Graphics Pr | 2001 \n",
    "91317719102XX | Are Pancakes the Best Food Ever? | NonFiction | My Garage INC. | 2015 \n",
    "\n",
    "#### AuthorList Table\n",
    "\n",
    "<u>ISBN</u> | <u>AuthorID</u>  \n",
    "--- | --- \n",
    "9781616895327 | 00 \n",
    "9781616895327 | 01\n",
    "9780961392147 | 02\n",
    "91317719102XX | 03\n",
    "\n",
    "We can now add this!\n",
    "\n",
    "#### Author Table\n",
    "\n",
    "<u>AuthorID</u>  | FirstName | LastName | HomeAddress | HomeCIty | HomeState | HomeCountry \n",
    "--- | --- | --- | --- | --- | --- | --- \n",
    "00 | Giorgia | Lupi | 1234 Pumpkin Drive | Monterey | CA | US \n",
    "01 | Stefanie | Posavec | 2345 Apple Drive | Seattle | WA | US \n",
    "02 | Edward | Tufte | 3456 College Street | Houston | TX | US \n",
    "03 | Patrick | Dudas | 4567 Overthere Lane | State College | PA | US \n"
   ]
  },
  {
   "cell_type": "markdown",
   "metadata": {},
   "source": [
    "Updated ER Diagram!"
   ]
  },
  {
   "cell_type": "markdown",
   "metadata": {},
   "source": [
    "<img src=\"https://raw.githubusercontent.com/dudaspm/IST210/master/ERDiagrams/images/2ndNormal.png\" height=\"300px\" alt=\"2NF\" />"
   ]
  },
  {
   "cell_type": "markdown",
   "metadata": {},
   "source": [
    "### 3rd Normal Form"
   ]
  },
  {
   "cell_type": "markdown",
   "metadata": {},
   "source": [
    "3rd Normal Form has the following rules:\n",
    "\n",
    "* Must be in 2nd Normal Form\n",
    "* Does not contain any transitive dependencies"
   ]
  },
  {
   "cell_type": "markdown",
   "metadata": {},
   "source": [
    "So, what is a transitive dependency?\n",
    "\n",
    "Well first, what is transitive? Simple... if A = B and B = C, then A = C\n",
    "\n",
    "For dependencies, this means that if attribute A -> B and attribute B -> C, then A -> B -> C (transitive dependency!)\n"
   ]
  },
  {
   "cell_type": "markdown",
   "metadata": {},
   "source": [
    "Let's create a new table: Transactions\n",
    "\n",
    "<u>TransactionID</u> | CustomerID | Library | ISBN | DeweyDecimal | DateTime\n",
    "--- | --- | --- | ---  | --- | --- \n",
    "00432 | A817 | 00 | 9781616895327 | 700.123 | 10/11/19 10:00AM \n",
    "03421 | F232 |02 | 9781616895327 | 700.8761 | 10/10/19 9:00AM \n",
    "02211 | D718 |01 | 9780961392147 | 000.77727 | 10/09/19 9:00AM \n"
   ]
  },
  {
   "cell_type": "markdown",
   "metadata": {},
   "source": [
    "So, let's see about dependencies.\n",
    "\n",
    "The customer determines what book is being borrowed, so CustomerID = ISBN. Library and ISBN determines the DeweyDecimal call number, so ISBN = DeweyDecimal (transitive dependency)\n",
    "\n"
   ]
  },
  {
   "cell_type": "code",
   "execution_count": null,
   "metadata": {},
   "outputs": [],
   "source": []
  }
 ],
 "metadata": {
  "colab": {
   "collapsed_sections": [],
   "name": "Books2Libraries.ipynb",
   "provenance": []
  },
  "kernelspec": {
   "display_name": "Python 3",
   "language": "python",
   "name": "python3"
  },
  "language_info": {
   "codemirror_mode": {
    "name": "ipython",
    "version": 3
   },
   "file_extension": ".py",
   "mimetype": "text/x-python",
   "name": "python",
   "nbconvert_exporter": "python",
   "pygments_lexer": "ipython3",
   "version": "3.7.3"
  }
 },
 "nbformat": 4,
 "nbformat_minor": 1
}
